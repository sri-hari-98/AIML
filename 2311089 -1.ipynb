{
  "nbformat": 4,
  "nbformat_minor": 0,
  "metadata": {
    "colab": {
      "provenance": []
    },
    "kernelspec": {
      "name": "python3",
      "display_name": "Python 3"
    },
    "language_info": {
      "name": "python"
    }
  },
  "cells": [
    {
      "cell_type": "code",
      "execution_count": 1,
      "metadata": {
        "id": "bWWuBaJ5FoA9"
      },
      "outputs": [],
      "source": [
        "# prompt: import all library\n",
        "\n",
        "import numpy as np\n",
        "import pandas as pd\n",
        "import matplotlib.pyplot as plt\n",
        "import seaborn as sns\n",
        "import sklearn\n",
        "import tensorflow as tf"
      ]
    },
    {
      "cell_type": "code",
      "source": [
        "# prompt: read my csv file name as /content/50_Startups.csv\n",
        "\n",
        "df = pd.read_csv('/content/50_Startups.csv')"
      ],
      "metadata": {
        "id": "H39BDLsOFwu5"
      },
      "execution_count": 2,
      "outputs": []
    },
    {
      "cell_type": "code",
      "source": [
        "# prompt: display first few rows\n",
        "\n",
        "df.head()"
      ],
      "metadata": {
        "colab": {
          "base_uri": "https://localhost:8080/",
          "height": 206
        },
        "id": "WkeDawjqFwxn",
        "outputId": "573b5cd3-aab8-4544-b01b-c6dc7cd77bfd"
      },
      "execution_count": 3,
      "outputs": [
        {
          "output_type": "execute_result",
          "data": {
            "text/plain": [
              "   R&D Spend  Administration  Marketing Spend       State     Profit\n",
              "0  165349.20       136897.80        471784.10    New York  192261.83\n",
              "1  162597.70       151377.59        443898.53  California  191792.06\n",
              "2  153441.51       101145.55        407934.54     Florida  191050.39\n",
              "3  144372.41       118671.85        383199.62    New York  182901.99\n",
              "4  142107.34        91391.77        366168.42     Florida  166187.94"
            ],
            "text/html": [
              "\n",
              "  <div id=\"df-fcf26ba3-a2eb-4ddb-877b-dab8e6625fb1\" class=\"colab-df-container\">\n",
              "    <div>\n",
              "<style scoped>\n",
              "    .dataframe tbody tr th:only-of-type {\n",
              "        vertical-align: middle;\n",
              "    }\n",
              "\n",
              "    .dataframe tbody tr th {\n",
              "        vertical-align: top;\n",
              "    }\n",
              "\n",
              "    .dataframe thead th {\n",
              "        text-align: right;\n",
              "    }\n",
              "</style>\n",
              "<table border=\"1\" class=\"dataframe\">\n",
              "  <thead>\n",
              "    <tr style=\"text-align: right;\">\n",
              "      <th></th>\n",
              "      <th>R&amp;D Spend</th>\n",
              "      <th>Administration</th>\n",
              "      <th>Marketing Spend</th>\n",
              "      <th>State</th>\n",
              "      <th>Profit</th>\n",
              "    </tr>\n",
              "  </thead>\n",
              "  <tbody>\n",
              "    <tr>\n",
              "      <th>0</th>\n",
              "      <td>165349.20</td>\n",
              "      <td>136897.80</td>\n",
              "      <td>471784.10</td>\n",
              "      <td>New York</td>\n",
              "      <td>192261.83</td>\n",
              "    </tr>\n",
              "    <tr>\n",
              "      <th>1</th>\n",
              "      <td>162597.70</td>\n",
              "      <td>151377.59</td>\n",
              "      <td>443898.53</td>\n",
              "      <td>California</td>\n",
              "      <td>191792.06</td>\n",
              "    </tr>\n",
              "    <tr>\n",
              "      <th>2</th>\n",
              "      <td>153441.51</td>\n",
              "      <td>101145.55</td>\n",
              "      <td>407934.54</td>\n",
              "      <td>Florida</td>\n",
              "      <td>191050.39</td>\n",
              "    </tr>\n",
              "    <tr>\n",
              "      <th>3</th>\n",
              "      <td>144372.41</td>\n",
              "      <td>118671.85</td>\n",
              "      <td>383199.62</td>\n",
              "      <td>New York</td>\n",
              "      <td>182901.99</td>\n",
              "    </tr>\n",
              "    <tr>\n",
              "      <th>4</th>\n",
              "      <td>142107.34</td>\n",
              "      <td>91391.77</td>\n",
              "      <td>366168.42</td>\n",
              "      <td>Florida</td>\n",
              "      <td>166187.94</td>\n",
              "    </tr>\n",
              "  </tbody>\n",
              "</table>\n",
              "</div>\n",
              "    <div class=\"colab-df-buttons\">\n",
              "\n",
              "  <div class=\"colab-df-container\">\n",
              "    <button class=\"colab-df-convert\" onclick=\"convertToInteractive('df-fcf26ba3-a2eb-4ddb-877b-dab8e6625fb1')\"\n",
              "            title=\"Convert this dataframe to an interactive table.\"\n",
              "            style=\"display:none;\">\n",
              "\n",
              "  <svg xmlns=\"http://www.w3.org/2000/svg\" height=\"24px\" viewBox=\"0 -960 960 960\">\n",
              "    <path d=\"M120-120v-720h720v720H120Zm60-500h600v-160H180v160Zm220 220h160v-160H400v160Zm0 220h160v-160H400v160ZM180-400h160v-160H180v160Zm440 0h160v-160H620v160ZM180-180h160v-160H180v160Zm440 0h160v-160H620v160Z\"/>\n",
              "  </svg>\n",
              "    </button>\n",
              "\n",
              "  <style>\n",
              "    .colab-df-container {\n",
              "      display:flex;\n",
              "      gap: 12px;\n",
              "    }\n",
              "\n",
              "    .colab-df-convert {\n",
              "      background-color: #E8F0FE;\n",
              "      border: none;\n",
              "      border-radius: 50%;\n",
              "      cursor: pointer;\n",
              "      display: none;\n",
              "      fill: #1967D2;\n",
              "      height: 32px;\n",
              "      padding: 0 0 0 0;\n",
              "      width: 32px;\n",
              "    }\n",
              "\n",
              "    .colab-df-convert:hover {\n",
              "      background-color: #E2EBFA;\n",
              "      box-shadow: 0px 1px 2px rgba(60, 64, 67, 0.3), 0px 1px 3px 1px rgba(60, 64, 67, 0.15);\n",
              "      fill: #174EA6;\n",
              "    }\n",
              "\n",
              "    .colab-df-buttons div {\n",
              "      margin-bottom: 4px;\n",
              "    }\n",
              "\n",
              "    [theme=dark] .colab-df-convert {\n",
              "      background-color: #3B4455;\n",
              "      fill: #D2E3FC;\n",
              "    }\n",
              "\n",
              "    [theme=dark] .colab-df-convert:hover {\n",
              "      background-color: #434B5C;\n",
              "      box-shadow: 0px 1px 3px 1px rgba(0, 0, 0, 0.15);\n",
              "      filter: drop-shadow(0px 1px 2px rgba(0, 0, 0, 0.3));\n",
              "      fill: #FFFFFF;\n",
              "    }\n",
              "  </style>\n",
              "\n",
              "    <script>\n",
              "      const buttonEl =\n",
              "        document.querySelector('#df-fcf26ba3-a2eb-4ddb-877b-dab8e6625fb1 button.colab-df-convert');\n",
              "      buttonEl.style.display =\n",
              "        google.colab.kernel.accessAllowed ? 'block' : 'none';\n",
              "\n",
              "      async function convertToInteractive(key) {\n",
              "        const element = document.querySelector('#df-fcf26ba3-a2eb-4ddb-877b-dab8e6625fb1');\n",
              "        const dataTable =\n",
              "          await google.colab.kernel.invokeFunction('convertToInteractive',\n",
              "                                                    [key], {});\n",
              "        if (!dataTable) return;\n",
              "\n",
              "        const docLinkHtml = 'Like what you see? Visit the ' +\n",
              "          '<a target=\"_blank\" href=https://colab.research.google.com/notebooks/data_table.ipynb>data table notebook</a>'\n",
              "          + ' to learn more about interactive tables.';\n",
              "        element.innerHTML = '';\n",
              "        dataTable['output_type'] = 'display_data';\n",
              "        await google.colab.output.renderOutput(dataTable, element);\n",
              "        const docLink = document.createElement('div');\n",
              "        docLink.innerHTML = docLinkHtml;\n",
              "        element.appendChild(docLink);\n",
              "      }\n",
              "    </script>\n",
              "  </div>\n",
              "\n",
              "\n",
              "<div id=\"df-ec0d101d-b62e-4f2d-9d5d-91666477eb8f\">\n",
              "  <button class=\"colab-df-quickchart\" onclick=\"quickchart('df-ec0d101d-b62e-4f2d-9d5d-91666477eb8f')\"\n",
              "            title=\"Suggest charts\"\n",
              "            style=\"display:none;\">\n",
              "\n",
              "<svg xmlns=\"http://www.w3.org/2000/svg\" height=\"24px\"viewBox=\"0 0 24 24\"\n",
              "     width=\"24px\">\n",
              "    <g>\n",
              "        <path d=\"M19 3H5c-1.1 0-2 .9-2 2v14c0 1.1.9 2 2 2h14c1.1 0 2-.9 2-2V5c0-1.1-.9-2-2-2zM9 17H7v-7h2v7zm4 0h-2V7h2v10zm4 0h-2v-4h2v4z\"/>\n",
              "    </g>\n",
              "</svg>\n",
              "  </button>\n",
              "\n",
              "<style>\n",
              "  .colab-df-quickchart {\n",
              "      --bg-color: #E8F0FE;\n",
              "      --fill-color: #1967D2;\n",
              "      --hover-bg-color: #E2EBFA;\n",
              "      --hover-fill-color: #174EA6;\n",
              "      --disabled-fill-color: #AAA;\n",
              "      --disabled-bg-color: #DDD;\n",
              "  }\n",
              "\n",
              "  [theme=dark] .colab-df-quickchart {\n",
              "      --bg-color: #3B4455;\n",
              "      --fill-color: #D2E3FC;\n",
              "      --hover-bg-color: #434B5C;\n",
              "      --hover-fill-color: #FFFFFF;\n",
              "      --disabled-bg-color: #3B4455;\n",
              "      --disabled-fill-color: #666;\n",
              "  }\n",
              "\n",
              "  .colab-df-quickchart {\n",
              "    background-color: var(--bg-color);\n",
              "    border: none;\n",
              "    border-radius: 50%;\n",
              "    cursor: pointer;\n",
              "    display: none;\n",
              "    fill: var(--fill-color);\n",
              "    height: 32px;\n",
              "    padding: 0;\n",
              "    width: 32px;\n",
              "  }\n",
              "\n",
              "  .colab-df-quickchart:hover {\n",
              "    background-color: var(--hover-bg-color);\n",
              "    box-shadow: 0 1px 2px rgba(60, 64, 67, 0.3), 0 1px 3px 1px rgba(60, 64, 67, 0.15);\n",
              "    fill: var(--button-hover-fill-color);\n",
              "  }\n",
              "\n",
              "  .colab-df-quickchart-complete:disabled,\n",
              "  .colab-df-quickchart-complete:disabled:hover {\n",
              "    background-color: var(--disabled-bg-color);\n",
              "    fill: var(--disabled-fill-color);\n",
              "    box-shadow: none;\n",
              "  }\n",
              "\n",
              "  .colab-df-spinner {\n",
              "    border: 2px solid var(--fill-color);\n",
              "    border-color: transparent;\n",
              "    border-bottom-color: var(--fill-color);\n",
              "    animation:\n",
              "      spin 1s steps(1) infinite;\n",
              "  }\n",
              "\n",
              "  @keyframes spin {\n",
              "    0% {\n",
              "      border-color: transparent;\n",
              "      border-bottom-color: var(--fill-color);\n",
              "      border-left-color: var(--fill-color);\n",
              "    }\n",
              "    20% {\n",
              "      border-color: transparent;\n",
              "      border-left-color: var(--fill-color);\n",
              "      border-top-color: var(--fill-color);\n",
              "    }\n",
              "    30% {\n",
              "      border-color: transparent;\n",
              "      border-left-color: var(--fill-color);\n",
              "      border-top-color: var(--fill-color);\n",
              "      border-right-color: var(--fill-color);\n",
              "    }\n",
              "    40% {\n",
              "      border-color: transparent;\n",
              "      border-right-color: var(--fill-color);\n",
              "      border-top-color: var(--fill-color);\n",
              "    }\n",
              "    60% {\n",
              "      border-color: transparent;\n",
              "      border-right-color: var(--fill-color);\n",
              "    }\n",
              "    80% {\n",
              "      border-color: transparent;\n",
              "      border-right-color: var(--fill-color);\n",
              "      border-bottom-color: var(--fill-color);\n",
              "    }\n",
              "    90% {\n",
              "      border-color: transparent;\n",
              "      border-bottom-color: var(--fill-color);\n",
              "    }\n",
              "  }\n",
              "</style>\n",
              "\n",
              "  <script>\n",
              "    async function quickchart(key) {\n",
              "      const quickchartButtonEl =\n",
              "        document.querySelector('#' + key + ' button');\n",
              "      quickchartButtonEl.disabled = true;  // To prevent multiple clicks.\n",
              "      quickchartButtonEl.classList.add('colab-df-spinner');\n",
              "      try {\n",
              "        const charts = await google.colab.kernel.invokeFunction(\n",
              "            'suggestCharts', [key], {});\n",
              "      } catch (error) {\n",
              "        console.error('Error during call to suggestCharts:', error);\n",
              "      }\n",
              "      quickchartButtonEl.classList.remove('colab-df-spinner');\n",
              "      quickchartButtonEl.classList.add('colab-df-quickchart-complete');\n",
              "    }\n",
              "    (() => {\n",
              "      let quickchartButtonEl =\n",
              "        document.querySelector('#df-ec0d101d-b62e-4f2d-9d5d-91666477eb8f button');\n",
              "      quickchartButtonEl.style.display =\n",
              "        google.colab.kernel.accessAllowed ? 'block' : 'none';\n",
              "    })();\n",
              "  </script>\n",
              "</div>\n",
              "\n",
              "    </div>\n",
              "  </div>\n"
            ],
            "application/vnd.google.colaboratory.intrinsic+json": {
              "type": "dataframe",
              "variable_name": "df",
              "summary": "{\n  \"name\": \"df\",\n  \"rows\": 50,\n  \"fields\": [\n    {\n      \"column\": \"R&D Spend\",\n      \"properties\": {\n        \"dtype\": \"number\",\n        \"std\": 45902.25648230753,\n        \"min\": 0.0,\n        \"max\": 165349.2,\n        \"num_unique_values\": 49,\n        \"samples\": [\n          91992.39,\n          1000.23,\n          0.0\n        ],\n        \"semantic_type\": \"\",\n        \"description\": \"\"\n      }\n    },\n    {\n      \"column\": \"Administration\",\n      \"properties\": {\n        \"dtype\": \"number\",\n        \"std\": 28017.802755488683,\n        \"min\": 51283.14,\n        \"max\": 182645.56,\n        \"num_unique_values\": 50,\n        \"samples\": [\n          135495.07,\n          82982.09,\n          115641.28\n        ],\n        \"semantic_type\": \"\",\n        \"description\": \"\"\n      }\n    },\n    {\n      \"column\": \"Marketing Spend\",\n      \"properties\": {\n        \"dtype\": \"number\",\n        \"std\": 122290.31072584528,\n        \"min\": 0.0,\n        \"max\": 471784.1,\n        \"num_unique_values\": 48,\n        \"samples\": [\n          353183.81,\n          172795.67,\n          134050.07\n        ],\n        \"semantic_type\": \"\",\n        \"description\": \"\"\n      }\n    },\n    {\n      \"column\": \"State\",\n      \"properties\": {\n        \"dtype\": \"category\",\n        \"num_unique_values\": 3,\n        \"samples\": [\n          \"New York\",\n          \"California\",\n          \"Florida\"\n        ],\n        \"semantic_type\": \"\",\n        \"description\": \"\"\n      }\n    },\n    {\n      \"column\": \"Profit\",\n      \"properties\": {\n        \"dtype\": \"number\",\n        \"std\": 40306.18033765055,\n        \"min\": 14681.4,\n        \"max\": 192261.83,\n        \"num_unique_values\": 50,\n        \"samples\": [\n          134307.35,\n          81005.76,\n          99937.59\n        ],\n        \"semantic_type\": \"\",\n        \"description\": \"\"\n      }\n    }\n  ]\n}"
            }
          },
          "metadata": {},
          "execution_count": 3
        }
      ]
    },
    {
      "cell_type": "code",
      "source": [
        "# prompt: list of columns\n",
        "\n",
        "print(df.columns.tolist())\n"
      ],
      "metadata": {
        "colab": {
          "base_uri": "https://localhost:8080/"
        },
        "id": "XLSqylMyFw0g",
        "outputId": "18c9f528-13bd-4983-e6f9-bb98928083dd"
      },
      "execution_count": 4,
      "outputs": [
        {
          "output_type": "stream",
          "name": "stdout",
          "text": [
            "['R&D Spend', 'Administration', 'Marketing Spend', 'State', 'Profit']\n"
          ]
        }
      ]
    },
    {
      "cell_type": "code",
      "source": [
        "df = pd.read_csv('/content/50_Startups.csv')\n",
        "\n",
        "# Display basic information about the DataFrame\n",
        "print(df.info())\n",
        "\n",
        "# Display the first few rows\n",
        "df.head()\n",
        "\n",
        "# Display the list of column names\n",
        "print(df.columns.tolist())"
      ],
      "metadata": {
        "colab": {
          "base_uri": "https://localhost:8080/"
        },
        "id": "OBP_zh68Fw3Y",
        "outputId": "3f3598cf-d965-44d8-a2a7-4498b7d21257"
      },
      "execution_count": 5,
      "outputs": [
        {
          "output_type": "stream",
          "name": "stdout",
          "text": [
            "<class 'pandas.core.frame.DataFrame'>\n",
            "RangeIndex: 50 entries, 0 to 49\n",
            "Data columns (total 5 columns):\n",
            " #   Column           Non-Null Count  Dtype  \n",
            "---  ------           --------------  -----  \n",
            " 0   R&D Spend        50 non-null     float64\n",
            " 1   Administration   50 non-null     float64\n",
            " 2   Marketing Spend  50 non-null     float64\n",
            " 3   State            50 non-null     object \n",
            " 4   Profit           50 non-null     float64\n",
            "dtypes: float64(4), object(1)\n",
            "memory usage: 2.1+ KB\n",
            "None\n",
            "['R&D Spend', 'Administration', 'Marketing Spend', 'State', 'Profit']\n"
          ]
        }
      ]
    },
    {
      "cell_type": "code",
      "source": [
        "# prompt: Mean, median, variance, skewness, kurtosis for all numeric columns\n",
        "\n",
        "# Assuming 'df' is your DataFrame (as defined in the previous code)\n",
        "\n",
        "numeric_cols = df.select_dtypes(include=np.number).columns\n",
        "\n",
        "for col in numeric_cols:\n",
        "  print(f\"Column: {col}\")\n",
        "  print(f\"  Mean: {df[col].mean()}\")\n",
        "  print(f\"  Median: {df[col].median()}\")\n",
        "  print(f\"  Variance: {df[col].var()}\")\n",
        "  print(f\"  Skewness: {df[col].skew()}\")\n",
        "  print(f\"  Kurtosis: {df[col].kurt()}\")\n",
        "  print(\"-\" * 20)"
      ],
      "metadata": {
        "colab": {
          "base_uri": "https://localhost:8080/"
        },
        "id": "Whtn_3PVFw6Y",
        "outputId": "a79ac710-31e9-4b95-fc0b-af53bb24b759"
      },
      "execution_count": 6,
      "outputs": [
        {
          "output_type": "stream",
          "name": "stdout",
          "text": [
            "Column: R&D Spend\n",
            "  Mean: 73721.6156\n",
            "  Median: 73051.08\n",
            "  Variance: 2107017150.167544\n",
            "  Skewness: 0.164002172321177\n",
            "  Kurtosis: -0.7614645568424674\n",
            "--------------------\n",
            "Column: Administration\n",
            "  Mean: 121344.63960000001\n",
            "  Median: 122699.795\n",
            "  Variance: 784997271.2454693\n",
            "  Skewness: -0.4890248099671768\n",
            "  Kurtosis: 0.22507113536865386\n",
            "--------------------\n",
            "Column: Marketing Spend\n",
            "  Mean: 211025.09780000002\n",
            "  Median: 212716.24\n",
            "  Variance: 14954920097.42379\n",
            "  Skewness: -0.04647226758360412\n",
            "  Kurtosis: -0.6717011281297514\n",
            "--------------------\n",
            "Column: Profit\n",
            "  Mean: 112012.63920000002\n",
            "  Median: 107978.19\n",
            "  Variance: 1624588173.411208\n",
            "  Skewness: 0.023291019769116614\n",
            "  Kurtosis: -0.06385888546853113\n",
            "--------------------\n"
          ]
        }
      ]
    },
    {
      "cell_type": "code",
      "source": [
        "df.isnull().sum()"
      ],
      "metadata": {
        "colab": {
          "base_uri": "https://localhost:8080/",
          "height": 241
        },
        "id": "9i0OE5gzFw9P",
        "outputId": "57f1153b-3b45-4578-e863-dce398d452a0"
      },
      "execution_count": 7,
      "outputs": [
        {
          "output_type": "execute_result",
          "data": {
            "text/plain": [
              "R&D Spend          0\n",
              "Administration     0\n",
              "Marketing Spend    0\n",
              "State              0\n",
              "Profit             0\n",
              "dtype: int64"
            ],
            "text/html": [
              "<div>\n",
              "<style scoped>\n",
              "    .dataframe tbody tr th:only-of-type {\n",
              "        vertical-align: middle;\n",
              "    }\n",
              "\n",
              "    .dataframe tbody tr th {\n",
              "        vertical-align: top;\n",
              "    }\n",
              "\n",
              "    .dataframe thead th {\n",
              "        text-align: right;\n",
              "    }\n",
              "</style>\n",
              "<table border=\"1\" class=\"dataframe\">\n",
              "  <thead>\n",
              "    <tr style=\"text-align: right;\">\n",
              "      <th></th>\n",
              "      <th>0</th>\n",
              "    </tr>\n",
              "  </thead>\n",
              "  <tbody>\n",
              "    <tr>\n",
              "      <th>R&amp;D Spend</th>\n",
              "      <td>0</td>\n",
              "    </tr>\n",
              "    <tr>\n",
              "      <th>Administration</th>\n",
              "      <td>0</td>\n",
              "    </tr>\n",
              "    <tr>\n",
              "      <th>Marketing Spend</th>\n",
              "      <td>0</td>\n",
              "    </tr>\n",
              "    <tr>\n",
              "      <th>State</th>\n",
              "      <td>0</td>\n",
              "    </tr>\n",
              "    <tr>\n",
              "      <th>Profit</th>\n",
              "      <td>0</td>\n",
              "    </tr>\n",
              "  </tbody>\n",
              "</table>\n",
              "</div><br><label><b>dtype:</b> int64</label>"
            ]
          },
          "metadata": {},
          "execution_count": 7
        }
      ]
    },
    {
      "cell_type": "code",
      "source": [
        "df.dtypes"
      ],
      "metadata": {
        "colab": {
          "base_uri": "https://localhost:8080/",
          "height": 241
        },
        "id": "ISuEs5EYFw_4",
        "outputId": "79667422-c4b4-488f-999d-7dba8268808e"
      },
      "execution_count": 8,
      "outputs": [
        {
          "output_type": "execute_result",
          "data": {
            "text/plain": [
              "R&D Spend          float64\n",
              "Administration     float64\n",
              "Marketing Spend    float64\n",
              "State               object\n",
              "Profit             float64\n",
              "dtype: object"
            ],
            "text/html": [
              "<div>\n",
              "<style scoped>\n",
              "    .dataframe tbody tr th:only-of-type {\n",
              "        vertical-align: middle;\n",
              "    }\n",
              "\n",
              "    .dataframe tbody tr th {\n",
              "        vertical-align: top;\n",
              "    }\n",
              "\n",
              "    .dataframe thead th {\n",
              "        text-align: right;\n",
              "    }\n",
              "</style>\n",
              "<table border=\"1\" class=\"dataframe\">\n",
              "  <thead>\n",
              "    <tr style=\"text-align: right;\">\n",
              "      <th></th>\n",
              "      <th>0</th>\n",
              "    </tr>\n",
              "  </thead>\n",
              "  <tbody>\n",
              "    <tr>\n",
              "      <th>R&amp;D Spend</th>\n",
              "      <td>float64</td>\n",
              "    </tr>\n",
              "    <tr>\n",
              "      <th>Administration</th>\n",
              "      <td>float64</td>\n",
              "    </tr>\n",
              "    <tr>\n",
              "      <th>Marketing Spend</th>\n",
              "      <td>float64</td>\n",
              "    </tr>\n",
              "    <tr>\n",
              "      <th>State</th>\n",
              "      <td>object</td>\n",
              "    </tr>\n",
              "    <tr>\n",
              "      <th>Profit</th>\n",
              "      <td>float64</td>\n",
              "    </tr>\n",
              "  </tbody>\n",
              "</table>\n",
              "</div><br><label><b>dtype:</b> object</label>"
            ]
          },
          "metadata": {},
          "execution_count": 8
        }
      ]
    },
    {
      "cell_type": "code",
      "source": [
        "# prompt: ANOVA for State column to Profit\n",
        "\n",
        "import statsmodels.formula.api as sm\n",
        "from statsmodels.stats.anova import anova_lm # Import anova_lm\n",
        "\n",
        "# Assuming 'df' is your DataFrame and 'State' and 'Profit' are column names\n",
        "# Fit the ANOVA model\n",
        "model = sm.ols('Profit ~ C(State)', data=df).fit()\n",
        "\n",
        "# Print the ANOVA table\n",
        "print(anova_lm(model, typ=2)) # Call anova_lm directly\n"
      ],
      "metadata": {
        "colab": {
          "base_uri": "https://localhost:8080/"
        },
        "id": "r7m8wspqGImS",
        "outputId": "70bf0c1c-bd8d-414f-9352-f1600ba6c379"
      },
      "execution_count": 9,
      "outputs": [
        {
          "output_type": "stream",
          "name": "stdout",
          "text": [
            "                sum_sq    df         F    PR(>F)\n",
            "C(State)  1.900582e+09   2.0  0.574791  0.566729\n",
            "Residual  7.770424e+10  47.0       NaN       NaN\n"
          ]
        }
      ]
    },
    {
      "cell_type": "code",
      "source": [
        "import scipy.stats as stats\n",
        "\n",
        "# Group Profit by State categories\n",
        "florida_profit = df[df['State'] == 'Florida']['Profit']\n",
        "newyork_profit = df[df['State'] == 'New York']['Profit']\n",
        "california_profit = df[df['State'] == 'California']['Profit']\n",
        "\n",
        "# Perform one-way ANOVA\n",
        "f_stat, p_value = stats.f_oneway(florida_profit, newyork_profit, california_profit)\n",
        "print(\"ANOVA Test:\")\n",
        "print(f\"F-statistic: {f_stat}, P-value: {p_value}\")\n",
        "\n",
        "# Interpretation:\n",
        "if p_value < 0.05:\n",
        "    print(\"There is a statistically significant difference in Profit across States.\")\n",
        "else:\n",
        "    print(\"No statistically significant difference in Profit across States.\")"
      ],
      "metadata": {
        "colab": {
          "base_uri": "https://localhost:8080/"
        },
        "id": "5PUwJcSvGLrw",
        "outputId": "12f3c25d-f97b-46f9-bad5-90ae088eef29"
      },
      "execution_count": 10,
      "outputs": [
        {
          "output_type": "stream",
          "name": "stdout",
          "text": [
            "ANOVA Test:\n",
            "F-statistic: 0.5747908867225175, P-value: 0.5667290310967406\n",
            "No statistically significant difference in Profit across States.\n"
          ]
        }
      ]
    },
    {
      "cell_type": "code",
      "source": [
        "# prompt: check for outlines in numerical column\n",
        "\n",
        "# Assuming 'df' is your DataFrame and you want to check for outliers in numerical columns\n",
        "\n",
        "numeric_cols = df.select_dtypes(include=np.number).columns\n",
        "\n",
        "for col in numeric_cols:\n",
        "    # Method 1: Using IQR (Interquartile Range)\n",
        "    Q1 = df[col].quantile(0.25)\n",
        "    Q3 = df[col].quantile(0.75)\n",
        "    IQR = Q3 - Q1\n",
        "    lower_bound = Q1 - 1.5 * IQR\n",
        "    upper_bound = Q3 + 1.5 * IQR\n",
        "    outliers = df[(df[col] < lower_bound) | (df[col] > upper_bound)]\n",
        "    print(f\"Outliers in {col} (IQR method):\")\n",
        "    print(outliers)\n",
        "\n",
        "    # Method 2: Using Z-score\n",
        "    z_scores = np.abs((df[col] - df[col].mean()) / df[col].std())\n",
        "    outliers_z = df[z_scores > 3]  # Consider values with a Z-score greater than 3 as outliers\n",
        "    print(f\"\\nOutliers in {col} (Z-score method):\")\n",
        "    print(outliers_z)\n",
        "\n",
        "    print(\"-\" * 20)"
      ],
      "metadata": {
        "colab": {
          "base_uri": "https://localhost:8080/"
        },
        "id": "iPZHrJdvGLvg",
        "outputId": "c9ab8d88-c668-4893-d66f-aeedac40646d"
      },
      "execution_count": 11,
      "outputs": [
        {
          "output_type": "stream",
          "name": "stdout",
          "text": [
            "Outliers in R&D Spend (IQR method):\n",
            "Empty DataFrame\n",
            "Columns: [R&D Spend, Administration, Marketing Spend, State, Profit]\n",
            "Index: []\n",
            "\n",
            "Outliers in R&D Spend (Z-score method):\n",
            "Empty DataFrame\n",
            "Columns: [R&D Spend, Administration, Marketing Spend, State, Profit]\n",
            "Index: []\n",
            "--------------------\n",
            "Outliers in Administration (IQR method):\n",
            "Empty DataFrame\n",
            "Columns: [R&D Spend, Administration, Marketing Spend, State, Profit]\n",
            "Index: []\n",
            "\n",
            "Outliers in Administration (Z-score method):\n",
            "Empty DataFrame\n",
            "Columns: [R&D Spend, Administration, Marketing Spend, State, Profit]\n",
            "Index: []\n",
            "--------------------\n",
            "Outliers in Marketing Spend (IQR method):\n",
            "Empty DataFrame\n",
            "Columns: [R&D Spend, Administration, Marketing Spend, State, Profit]\n",
            "Index: []\n",
            "\n",
            "Outliers in Marketing Spend (Z-score method):\n",
            "Empty DataFrame\n",
            "Columns: [R&D Spend, Administration, Marketing Spend, State, Profit]\n",
            "Index: []\n",
            "--------------------\n",
            "Outliers in Profit (IQR method):\n",
            "    R&D Spend  Administration  Marketing Spend       State   Profit\n",
            "49        0.0        116983.8         45173.06  California  14681.4\n",
            "\n",
            "Outliers in Profit (Z-score method):\n",
            "Empty DataFrame\n",
            "Columns: [R&D Spend, Administration, Marketing Spend, State, Profit]\n",
            "Index: []\n",
            "--------------------\n"
          ]
        }
      ]
    },
    {
      "cell_type": "code",
      "source": [
        "# prompt: no of outliers in Profit column\n",
        "\n",
        "# Assuming 'df' is your DataFrame and 'Profit' is the column name\n",
        "\n",
        "# Method 1: Using IQR (Interquartile Range)\n",
        "Q1 = df['Profit'].quantile(0.25)\n",
        "Q3 = df['Profit'].quantile(0.75)\n",
        "IQR = Q3 - Q1\n",
        "lower_bound = Q1 - 1.5 * IQR\n",
        "upper_bound = Q3 + 1.5 * IQR\n",
        "outliers_iqr = df[(df['Profit'] < lower_bound) | (df['Profit'] > upper_bound)]\n",
        "num_outliers_iqr = len(outliers_iqr)\n",
        "print(f\"Number of outliers in 'Profit' (IQR method): {num_outliers_iqr}\")\n",
        "\n",
        "# Method 2: Using Z-score\n",
        "z_scores = np.abs((df['Profit'] - df['Profit'].mean()) / df['Profit'].std())\n",
        "outliers_zscore = df[z_scores > 3]  # Consider values with a Z-score greater than 3 as outliers\n",
        "num_outliers_zscore = len(outliers_zscore)\n",
        "print(f\"Number of outliers in 'Profit' (Z-score method): {num_outliers_zscore}\")"
      ],
      "metadata": {
        "colab": {
          "base_uri": "https://localhost:8080/"
        },
        "id": "PiiuqFyuGLyY",
        "outputId": "b5e5b352-f4ea-404a-db5d-32651fa5f43d"
      },
      "execution_count": 12,
      "outputs": [
        {
          "output_type": "stream",
          "name": "stdout",
          "text": [
            "Number of outliers in 'Profit' (IQR method): 1\n",
            "Number of outliers in 'Profit' (Z-score method): 0\n"
          ]
        }
      ]
    },
    {
      "cell_type": "code",
      "source": [
        "import seaborn as sns\n",
        "import matplotlib.pyplot as plt\n",
        "\n",
        "# Ensure only numeric columns are included for correlation\n",
        "numeric_df = df.select_dtypes(include=['float64', 'int64', 'bool'])\n",
        "\n",
        "# Compute correlation matrix\n",
        "correlation_matrix = numeric_df.corr()\n",
        "\n",
        "# Print the correlation matrix\n",
        "print(\"Correlation Matrix:\")\n",
        "print(correlation_matrix)\n",
        "\n",
        "# Visualize the correlation matrix using a heatmap\n",
        "plt.figure(figsize=(10, 6))\n",
        "sns.heatmap(correlation_matrix, annot=True, cmap='coolwarm', fmt='.2f')\n",
        "plt.title('Correlation Heatmap')\n",
        "plt.show()"
      ],
      "metadata": {
        "colab": {
          "base_uri": "https://localhost:8080/",
          "height": 654
        },
        "id": "Apt2IwokGL1o",
        "outputId": "64d0221f-61a0-43c8-f62f-fd2c8a30013e"
      },
      "execution_count": 13,
      "outputs": [
        {
          "output_type": "stream",
          "name": "stdout",
          "text": [
            "Correlation Matrix:\n",
            "                 R&D Spend  Administration  Marketing Spend    Profit\n",
            "R&D Spend         1.000000        0.241955         0.724248  0.972900\n",
            "Administration    0.241955        1.000000        -0.032154  0.200717\n",
            "Marketing Spend   0.724248       -0.032154         1.000000  0.747766\n",
            "Profit            0.972900        0.200717         0.747766  1.000000\n"
          ]
        },
        {
          "output_type": "display_data",
          "data": {
            "text/plain": [
              "<Figure size 1000x600 with 2 Axes>"
            ],
            "image/png": "[encoded data removed]"
          },
          "metadata": {}
        }
      ]
    },
    {
      "cell_type": "code",
      "source": [
        "# prompt: linear regression model of my data x-varibale as \"R&D Spend\" and y-is \"Profit\"\n",
        "\n",
        "import statsmodels.api as sm\n",
        "\n",
        "# Define the independent and dependent variables\n",
        "X = df[['R&D Spend']]\n",
        "y = df['Profit']\n",
        "\n",
        "# Add a constant to the independent variables (intercept term)\n",
        "X = sm.add_constant(X)\n",
        "\n",
        "# Create and fit the linear regression model\n",
        "model = sm.OLS(y, X).fit()\n",
        "\n",
        "# Print the model summary\n",
        "print(model.summary())"
      ],
      "metadata": {
        "colab": {
          "base_uri": "https://localhost:8080/"
        },
        "id": "f1MtV8L7GVtx",
        "outputId": "426e20db-907c-4dbd-f47e-f1177160fdf8"
      },
      "execution_count": 14,
      "outputs": [
        {
          "output_type": "stream",
          "name": "stdout",
          "text": [
            "                            OLS Regression Results                            \n",
            "==============================================================================\n",
            "Dep. Variable:                 Profit   R-squared:                       0.947\n",
            "Model:                            OLS   Adj. R-squared:                  0.945\n",
            "Method:                 Least Squares   F-statistic:                     849.8\n",
            "Date:                Wed, 11 Dec 2024   Prob (F-statistic):           3.50e-32\n",
            "Time:                        05:03:05   Log-Likelihood:                -527.44\n",
            "No. Observations:                  50   AIC:                             1059.\n",
            "Df Residuals:                      48   BIC:                             1063.\n",
            "Df Model:                           1                                         \n",
            "Covariance Type:            nonrobust                                         \n",
            "==============================================================================\n",
            "                 coef    std err          t      P>|t|      [0.025      0.975]\n",
            "------------------------------------------------------------------------------\n",
            "const       4.903e+04   2537.897     19.320      0.000    4.39e+04    5.41e+04\n",
            "R&D Spend      0.8543      0.029     29.151      0.000       0.795       0.913\n",
            "==============================================================================\n",
            "Omnibus:                       13.727   Durbin-Watson:                   1.116\n",
            "Prob(Omnibus):                  0.001   Jarque-Bera (JB):               18.536\n",
            "Skew:                          -0.911   Prob(JB):                     9.44e-05\n",
            "Kurtosis:                       5.361   Cond. No.                     1.65e+05\n",
            "==============================================================================\n",
            "\n",
            "Notes:\n",
            "[1] Standard Errors assume that the covariance matrix of the errors is correctly specified.\n",
            "[2] The condition number is large, 1.65e+05. This might indicate that there are\n",
            "strong multicollinearity or other numerical problems.\n"
          ]
        }
      ]
    },
    {
      "cell_type": "code",
      "source": [
        "# Extract and print the regression equation from statsmodels without FutureWarnings\n",
        "ols_intercept = model.params.iloc[0]  # Constant # Change ols_model to model\n",
        "ols_coefficient = model.params.iloc[1]  # Coefficient for R&D Spend # Change ols_model to model\n",
        "\n",
        "print(\"\\nRegression Model Equation (Statsmodels):\")\n",
        "print(f\"Profit = {ols_intercept:.2f} + ({ols_coefficient:.2f} * R&D Spend)\")"
      ],
      "metadata": {
        "colab": {
          "base_uri": "https://localhost:8080/"
        },
        "id": "D4lL5H-zGYWQ",
        "outputId": "1f867c25-f804-4d09-dfe5-ec572661ec02"
      },
      "execution_count": 15,
      "outputs": [
        {
          "output_type": "stream",
          "name": "stdout",
          "text": [
            "\n",
            "Regression Model Equation (Statsmodels):\n",
            "Profit = 49032.90 + (0.85 * R&D Spend)\n"
          ]
        }
      ]
    },
    {
      "cell_type": "code",
      "source": [
        "import pandas as pd\n",
        "import statsmodels.api as sm\n",
        "from sklearn.model_selection import train_test_split\n",
        "from sklearn.linear_model import LinearRegression\n",
        "from sklearn.metrics import mean_squared_error, r2_score\n",
        "\n",
        "# Select features based on correlation\n",
        "# Using R&D Spend, Marketing Spend as predictors (high correlation with Profit)\n",
        "X = df[['R&D Spend', 'Marketing Spend']]\n",
        "y = df['Profit']\n",
        "\n",
        "# Split the data into training and testing sets\n",
        "X_train, X_test, y_train, y_test = train_test_split(X, y, test_size=0.2, random_state=42)\n",
        "\n",
        "# Initialize the Linear Regression model\n",
        "model = LinearRegression()\n",
        "\n",
        "# Train the model\n",
        "model.fit(X_train, y_train)\n",
        "\n",
        "# Predict on the test set\n",
        "y_pred = model.predict(X_test)\n",
        "\n",
        "# Evaluate the model\n",
        "mse = mean_squared_error(y_test, y_pred)\n",
        "r2 = r2_score(y_test, y_pred)\n",
        "\n",
        "print(\"Mean Squared Error:\", mse)\n",
        "print(\"R-squared:\", r2)\n",
        "\n",
        "# Display coefficients\n",
        "print(\"\\nModel Coefficients:\")\n",
        "for feature, coef in zip(X.columns, model.coef_):\n",
        "    print(f\"{feature}: {coef}\")\n",
        "\n",
        "# Add constant for intercept in statsmodels\n",
        "X_train_sm = sm.add_constant(X_train)\n",
        "X_test_sm = sm.add_constant(X_test)\n",
        "\n",
        "# Statsmodels for detailed summary\n",
        "ols_model = sm.OLS(y_train, X_train_sm).fit()\n",
        "print(\"\\nOLS Regression Summary:\")\n",
        "print(ols_model.summary())"
      ],
      "metadata": {
        "colab": {
          "base_uri": "https://localhost:8080/"
        },
        "id": "eMveciZzGYaA",
        "outputId": "252993c7-f471-4897-f284-7bd072196fc3"
      },
      "execution_count": 16,
      "outputs": [
        {
          "output_type": "stream",
          "name": "stdout",
          "text": [
            "Mean Squared Error: 67343832.58979616\n",
            "R-squared: 0.9168381183550246\n",
            "\n",
            "Model Coefficients:\n",
            "R&D Spend: 0.7833743148902921\n",
            "Marketing Spend: 0.03923978714553163\n",
            "\n",
            "OLS Regression Summary:\n",
            "                            OLS Regression Results                            \n",
            "==============================================================================\n",
            "Dep. Variable:                 Profit   R-squared:                       0.952\n",
            "Model:                            OLS   Adj. R-squared:                  0.949\n",
            "Method:                 Least Squares   F-statistic:                     366.0\n",
            "Date:                Wed, 11 Dec 2024   Prob (F-statistic):           4.19e-25\n",
            "Time:                        05:03:26   Log-Likelihood:                -421.40\n",
            "No. Observations:                  40   AIC:                             848.8\n",
            "Df Residuals:                      37   BIC:                             853.9\n",
            "Df Model:                           2                                         \n",
            "Covariance Type:            nonrobust                                         \n",
            "===================================================================================\n",
            "                      coef    std err          t      P>|t|      [0.025      0.975]\n",
            "-----------------------------------------------------------------------------------\n",
            "const            4.554e+04   3457.277     13.173      0.000    3.85e+04    5.25e+04\n",
            "R&D Spend           0.7834      0.048     16.480      0.000       0.687       0.880\n",
            "Marketing Spend     0.0392      0.020      1.980      0.055      -0.001       0.079\n",
            "==============================================================================\n",
            "Omnibus:                       13.869   Durbin-Watson:                   1.753\n",
            "Prob(Omnibus):                  0.001   Jarque-Bera (JB):               16.958\n",
            "Skew:                          -1.067   Prob(JB):                     0.000208\n",
            "Kurtosis:                       5.371   Cond. No.                     6.36e+05\n",
            "==============================================================================\n",
            "\n",
            "Notes:\n",
            "[1] Standard Errors assume that the covariance matrix of the errors is correctly specified.\n",
            "[2] The condition number is large, 6.36e+05. This might indicate that there are\n",
            "strong multicollinearity or other numerical problems.\n"
          ]
        }
      ]
    },
    {
      "cell_type": "code",
      "source": [
        "# prompt: Print the regression equation\n",
        "\n",
        "# Extract and print the regression equation from statsmodels without FutureWarnings\n",
        "# Use ols_model (statsmodels) to get the parameters\n",
        "ols_intercept = ols_model.params.iloc[0]  # Constant\n",
        "ols_coefficient_rd = ols_model.params.iloc[1]  # Coefficient for R&D Spend\n",
        "ols_coefficient_marketing = ols_model.params.iloc[2] # Coefficient for Marketing Spend\n",
        "\n",
        "print(\"\\nRegression Model Equation (Statsmodels):\")\n",
        "print(f\"Profit = {ols_intercept:.2f} + ({ols_coefficient_rd:.2f} * R&D Spend) + ({ols_coefficient_marketing:.2f} * Marketing Spend)\")"
      ],
      "metadata": {
        "colab": {
          "base_uri": "https://localhost:8080/"
        },
        "id": "0s_Tie4fGYdF",
        "outputId": "730c54f6-2bf3-444c-d06d-16cd1280a2f1"
      },
      "execution_count": 17,
      "outputs": [
        {
          "output_type": "stream",
          "name": "stdout",
          "text": [
            "\n",
            "Regression Model Equation (Statsmodels):\n",
            "Profit = 45542.39 + (0.78 * R&D Spend) + (0.04 * Marketing Spend)\n"
          ]
        }
      ]
    }
  ]
}